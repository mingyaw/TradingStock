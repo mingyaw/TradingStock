{
  "nbformat": 4,
  "nbformat_minor": 0,
  "metadata": {
    "colab": {
      "provenance": [],
      "authorship_tag": "ABX9TyNhuSpii37wSt5hEKqp7YNa",
      "include_colab_link": true
    },
    "kernelspec": {
      "name": "python3",
      "display_name": "Python 3"
    },
    "language_info": {
      "name": "python"
    }
  },
  "cells": [
    {
      "cell_type": "markdown",
      "metadata": {
        "id": "view-in-github",
        "colab_type": "text"
      },
      "source": [
        "<a href=\"https://colab.research.google.com/github/mingyaw/TradingStock/blob/main/USTradingStock.ipynb\" target=\"_parent\"><img src=\"https://colab.research.google.com/assets/colab-badge.svg\" alt=\"Open In Colab\"/></a>"
      ]
    },
    {
      "cell_type": "markdown",
      "source": [
        "美股前300大列表\n"
      ],
      "metadata": {
        "id": "1EPiHqsY9bx3"
      }
    },
    {
      "cell_type": "code",
      "execution_count": null,
      "metadata": {
        "id": "FrU-rtpJ7LlC"
      },
      "outputs": [],
      "source": [
        "import pandas as pd\n",
        "import requests\n",
        "from io import StringIO\n",
        "\n",
        "\n",
        "# def us_stork_list():\n",
        "try:\n",
        "    df_list = []\n",
        "    # 加入headers\n",
        "    headers = {\n",
        "        \"user-agent\": \"Mozilla/5.0 (Windows NT 6.1; Win64; x64) AppleWebKit/537.36 (KHTML, like Gecko) Chrome/74.0.3729.157 Safari/537.36\"\n",
        "    }\n",
        "    # 對網站進行requests，並加入指定的headers一同請求\n",
        "    for i in range(0, 300, 100):\n",
        "        url = 'https://finance.yahoo.com/screener/predefined/most_actives?count=100&offset=%d' % i\n",
        "        html_data = requests.get(url, headers=headers)\n",
        "        # 使用pandas的read_html處理表格式\n",
        "        data = pd.read_html(StringIO(html_data.text))[0]\n",
        "        print(data.index)\n",
        "        df_list.append(data)\n",
        "\n",
        "    # stk_list\n",
        "    df = pd.concat(df_list)\n",
        "    df.to_csv('TradingStock/us_stock_list.csv')\n",
        "\n",
        "except SystemExit:\n",
        "    print('Its OK')\n",
        "\n"
      ]
    },
    {
      "cell_type": "markdown",
      "source": [
        "取單支股票10年每日股價\n"
      ],
      "metadata": {
        "id": "ZmHHpbns9M5_"
      }
    },
    {
      "cell_type": "code",
      "source": [
        "import pandas as pd\n",
        "import requests\n",
        "import yfinance as yf\n",
        "import numpy as np\n",
        "from prophet import Prophet\n",
        "import matplotlib.pyplot as plt\n",
        "\n",
        "start_date = '2014-01-01'\n",
        "end_date = '2024-12-31'\n",
        "\n",
        "stock_list = pd.read_csv('TradingStock/us_stock_list.csv')\n",
        "\n",
        "for i in range(stock_list.shape[0]-1):\n",
        "     c_time = stock_list.index[i]\n",
        "     stock_no = stock_list.loc[c_time, 'Symbol']\n",
        "     df = yf.download(stock_no,start=start_date,end=end_date)\n",
        "     df.to_csv('TradingStock/US_DATA/'+stock_no +'_2014_2024.csv')"
      ],
      "metadata": {
        "id": "DnWOlBk--5LM"
      },
      "execution_count": null,
      "outputs": []
    },
    {
      "cell_type": "markdown",
      "source": [
        "美股回測"
      ],
      "metadata": {
        "id": "MfzQqDTXJZnG"
      }
    },
    {
      "cell_type": "code",
      "source": [
        "!pip install backtrader\n",
        "import backtrader as bt\n",
        "import pandas as pd\n",
        "import numpy as np\n",
        "import datetime\n",
        "from copy import deepcopy\n",
        "\n",
        "class SmaCross(bt.SignalStrategy):\n",
        "    def __init__(self):\n",
        "        sma1, sma2 = bt.ind.SMA(period=10), bt.ind.SMA(period=30)\n",
        "        crossover = bt.ind.CrossOver(sma1, sma2)\n",
        "        self.signal_add(bt.SIGNAL_LONG, crossover)\n",
        "\n",
        "class BollStrategy(bt.SignalStrategy):\n",
        "    def __init__(self):\n",
        "        sma1, sma2 = bt.ind.SMA(period=10), bt.ind.SMA(period=30)\n",
        "        crossover = bt.ind.CrossOver(sma1, sma2)\n",
        "        self.signal_add(bt.SIGNAL_LONG, crossover)\n",
        "\n",
        "class MACDStrategy(bt.Strategy):\n",
        "  params=(('p1',12),('p2',26),('p3',9),)\n",
        "  def __init__(self):\n",
        "    self.order = None\n",
        "    #取得MACD\n",
        "    self.macdhist = bt.ind.MACDHisto(self.data,\n",
        "    period_me1=self.p.p1,\n",
        "    period_me2=self.p.p2,\n",
        "    period_signal=self.p.p3)\n",
        "\n",
        "  def next(self):\n",
        "    if not self.position:\n",
        "      # 得到當前的帳戶價值\n",
        "      total_value = self.broker.getvalue\n",
        "\n",
        "      #1手=100股，滿倉買入\n",
        "      # ss=int((total_value/100)/self.datas[0].close[0])*100\n",
        "\n",
        "      #當MACD柱大於0（紅柱）且無持倉時滿倉買入\n",
        "      if self.macdhist > 0:\n",
        "        self.order=self.buy(size=100)\n",
        "    else:\n",
        "      #當MACD柱小於0（綠柱）且持倉時全部清倉\n",
        "      if self.macdhist < 0:\n",
        "        self.close\n",
        "\n",
        "if __name__ == '__main__':\n",
        "  cerebro = bt.Cerebro()\n",
        "  # 開始資金\n",
        "  print('Starting Portfolio Value: %.2f' % cerebro.broker.getvalue())\n",
        "\n",
        "  dataframe = pd.read_csv('TradingStock/US_DATA/AAPL_2014_2024.csv', index_col=0, parse_dates=True)\n",
        "  dataframe['openinterest'] = 0\n",
        "  data = bt.feeds.PandasData(dataname=dataframe,\n",
        "                          fromdate = datetime.datetime(2014, 1, 1),\n",
        "                          todate = datetime.datetime(2024, 12, 31)\n",
        "                          )\n",
        "  cerebro.adddata(data)\n",
        "  cerebro.addstrategy(MACDStrategy)\n",
        "  cerebro.broker.set_cash(cash=10000)\n",
        "  cerebro.run()\n",
        "  # cerebro.plot()\n",
        "  # 回測完成資金\n",
        "  print('Final Portfolio Value: %.2f' % cerebro.broker.getvalue())"
      ],
      "metadata": {
        "id": "KdfgWH7iJhSg"
      },
      "execution_count": null,
      "outputs": []
    },
    {
      "cell_type": "code",
      "source": [],
      "metadata": {
        "id": "pqiEvNjGNrar"
      },
      "execution_count": null,
      "outputs": []
    }
  ]
}