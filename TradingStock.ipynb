{
  "nbformat": 4,
  "nbformat_minor": 0,
  "metadata": {
    "colab": {
      "provenance": [],
      "authorship_tag": "ABX9TyMwVZOxkgOyQgcdTom4iMlH",
      "include_colab_link": true
    },
    "kernelspec": {
      "name": "python3",
      "display_name": "Python 3"
    },
    "language_info": {
      "name": "python"
    }
  },
  "cells": [
    {
      "cell_type": "markdown",
      "metadata": {
        "id": "view-in-github",
        "colab_type": "text"
      },
      "source": [
        "<a href=\"https://colab.research.google.com/github/mingyaw/TradingStock/blob/main/TradingStock.ipynb\" target=\"_parent\"><img src=\"https://colab.research.google.com/assets/colab-badge.svg\" alt=\"Open In Colab\"/></a>"
      ]
    },
    {
      "cell_type": "markdown",
      "source": [
        "美股前300大列表\n"
      ],
      "metadata": {
        "id": "1EPiHqsY9bx3"
      }
    },
    {
      "cell_type": "code",
      "execution_count": null,
      "metadata": {
        "id": "FrU-rtpJ7LlC"
      },
      "outputs": [],
      "source": [
        "import pandas as pd\n",
        "import requests\n",
        "from io import StringIO\n",
        "\n",
        "\n",
        "# def us_stork_list():\n",
        "try:\n",
        "    df_list = []\n",
        "    # 加入headers\n",
        "    headers = {\n",
        "        \"user-agent\": \"Mozilla/5.0 (Windows NT 6.1; Win64; x64) AppleWebKit/537.36 (KHTML, like Gecko) Chrome/74.0.3729.157 Safari/537.36\"\n",
        "    }\n",
        "    # 對網站進行requests，並加入指定的headers一同請求\n",
        "    for i in range(0, 300, 100):\n",
        "        url = 'https://finance.yahoo.com/screener/predefined/most_actives?count=100&offset=%d' % i\n",
        "        html_data = requests.get(url, headers=headers)\n",
        "        # 使用pandas的read_html處理表格式\n",
        "        data = pd.read_html(StringIO(html_data.text))[0]\n",
        "        print(data.index)\n",
        "        df_list.append(data)\n",
        "\n",
        "    # stk_list\n",
        "    df = pd.concat(df_list)\n",
        "    df.to_csv('TradingStock/us_stock_list.csv')\n",
        "\n",
        "except SystemExit:\n",
        "    print('Its OK')\n",
        "\n"
      ]
    },
    {
      "cell_type": "markdown",
      "source": [
        "取單支股票10年每日股價\n"
      ],
      "metadata": {
        "id": "ZmHHpbns9M5_"
      }
    },
    {
      "cell_type": "code",
      "source": [
        "import pandas as pd\n",
        "import requests\n",
        "import yfinance as yf\n",
        "# from stocker import Stocker\n",
        "import numpy as np\n",
        "from prophet import Prophet\n",
        "import matplotlib.pyplot as plt\n",
        "\n",
        "start_date = '2014-01-01'\n",
        "end_date = '2024-05-31'\n",
        "\n",
        "stock_list = pd.read_csv('TradingStock/us_stock_list.csv')\n",
        "\n",
        "for i in range(stock_list.shape[0]-1):\n",
        "     c_time = stock_list.index[i]\n",
        "     stock_no = stock_list.loc[c_time, 'Symbol']\n",
        "     df = yf.download(stock_no,start=start_date,end=end_date)\n",
        "     df.to_csv('TradingStock/US_DATA/'+stock_no +'_2014_2024.csv')"
      ],
      "metadata": {
        "id": "DnWOlBk--5LM"
      },
      "execution_count": null,
      "outputs": []
    }
  ]
}